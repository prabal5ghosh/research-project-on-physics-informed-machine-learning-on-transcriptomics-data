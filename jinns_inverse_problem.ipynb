{
 "cells": [
  {
   "cell_type": "code",
   "execution_count": 1,
   "id": "a5f6f7ed",
   "metadata": {},
   "outputs": [],
   "source": [
    "%load_ext autoreload\n",
    "%autoreload 2\n",
    "%matplotlib inline\n"
   ]
  },
  {
   "cell_type": "code",
   "execution_count": 2,
   "id": "34cce892",
   "metadata": {},
   "outputs": [],
   "source": [
    "import jinns\n"
   ]
  },
  {
   "cell_type": "code",
   "execution_count": 3,
   "id": "367e7a05",
   "metadata": {},
   "outputs": [],
   "source": [
    "import jax\n",
    "import jax.numpy as jnp\n",
    "import optax\n",
    "import equinox as eqx\n",
    "import matplotlib.pyplot as plt\n",
    "from functools import partial\n",
    "import jinns\n"
   ]
  },
  {
   "cell_type": "code",
   "execution_count": 4,
   "id": "b05d339c",
   "metadata": {},
   "outputs": [],
   "source": [
    "key = jax.random.PRNGKey(42)\n"
   ]
  },
  {
   "cell_type": "code",
   "execution_count": 5,
   "id": "4574aa80",
   "metadata": {},
   "outputs": [
    {
     "name": "stdout",
     "output_type": "stream",
     "text": [
      "theta_ori=Array([0.0031831], dtype=float32)\n",
      "theta=Array([0.06375951], dtype=float32)\n"
     ]
    }
   ],
   "source": [
    "# True is : theta = 1 / (100 * jnp.pi)\n",
    "key, subkey = jax.random.split(key)\n",
    "theta_ori = jnp.array([1 / (100 * jnp.pi)])\n",
    "print(f\"{theta_ori=}\")\n",
    "theta = theta_ori + jax.random.normal(subkey, shape=(1,)) * 0.1\n",
    "print(f\"{theta=}\")\n"
   ]
  },
  {
   "cell_type": "code",
   "execution_count": null,
   "id": "177e1441",
   "metadata": {},
   "outputs": [],
   "source": []
  },
  {
   "cell_type": "code",
   "execution_count": 6,
   "id": "2ee2db34",
   "metadata": {},
   "outputs": [
    {
     "name": "stderr",
     "output_type": "stream",
     "text": [
      "C:\\Users\\praba\\anaconda3\\Lib\\site-packages\\jinns\\data\\_DataGenerators.py:943: UserWarning: Grid sampling is requested in dimension 2 with a non perfect square dataset size (self.ni = 5000). Modifying self.ni to self.ni = 5041.\n",
      "  warnings.warn(\n"
     ]
    }
   ],
   "source": [
    "n = 5000\n",
    "ni = 5000\n",
    "nb = 2\n",
    "domain_batch_size = 32\n",
    "initial_batch_size = 32\n",
    "dim = 1\n",
    "xmin = -1\n",
    "xmax = 1\n",
    "tmin = 0\n",
    "tmax = 1\n",
    "Tmax = 1\n",
    "method = \"uniform\"\n",
    "\n",
    "train_data = jinns.data.CubicMeshPDENonStatio(\n",
    "    key=subkey,\n",
    "    n=n,\n",
    "    nb=nb,\n",
    "    ni=ni,\n",
    "    domain_batch_size=domain_batch_size,\n",
    "    initial_batch_size=initial_batch_size,\n",
    "    dim=dim,\n",
    "    min_pts=(xmin,),\n",
    "    max_pts=(xmax,),\n",
    "    tmin=tmin,\n",
    "    tmax=tmax,\n",
    "    method=method\n",
    ")\n"
   ]
  },
  {
   "cell_type": "code",
   "execution_count": 7,
   "id": "cc8782e8",
   "metadata": {},
   "outputs": [
    {
     "ename": "NameError",
     "evalue": "name 'obs_batch' is not defined",
     "output_type": "error",
     "traceback": [
      "\u001b[1;31m---------------------------------------------------------------------------\u001b[0m",
      "\u001b[1;31mNameError\u001b[0m                                 Traceback (most recent call last)",
      "Cell \u001b[1;32mIn[7], line 5\u001b[0m\n\u001b[0;32m      1\u001b[0m key, subkey \u001b[38;5;241m=\u001b[39m jax\u001b[38;5;241m.\u001b[39mrandom\u001b[38;5;241m.\u001b[39msplit(key)\n\u001b[0;32m      2\u001b[0m obs_data \u001b[38;5;241m=\u001b[39m jinns\u001b[38;5;241m.\u001b[39mdata\u001b[38;5;241m.\u001b[39mDataGeneratorObservations(\n\u001b[0;32m      3\u001b[0m     subkey,\n\u001b[0;32m      4\u001b[0m     \u001b[38;5;241m32\u001b[39m,\n\u001b[1;32m----> 5\u001b[0m     observed_pinn_in\u001b[38;5;241m=\u001b[39mobs_batch[:, :\u001b[38;5;241m2\u001b[39m],\n\u001b[0;32m      6\u001b[0m     observed_values\u001b[38;5;241m=\u001b[39mobs_batch[:, \u001b[38;5;241m2\u001b[39m:\u001b[38;5;241m3\u001b[39m]\n\u001b[0;32m      7\u001b[0m )\n",
      "\u001b[1;31mNameError\u001b[0m: name 'obs_batch' is not defined"
     ]
    }
   ],
   "source": [
    "key, subkey = jax.random.split(key)\n",
    "obs_data = jinns.data.DataGeneratorObservations(\n",
    "    subkey,\n",
    "    32,\n",
    "    observed_pinn_in=obs_batch[:, :2],\n",
    "    observed_values=obs_batch[:, 2:3]\n",
    ")\n"
   ]
  },
  {
   "cell_type": "code",
   "execution_count": null,
   "id": "ceea4a1f",
   "metadata": {},
   "outputs": [],
   "source": []
  }
 ],
 "metadata": {
  "kernelspec": {
   "display_name": "Python 3 (ipykernel)",
   "language": "python",
   "name": "python3"
  },
  "language_info": {
   "codemirror_mode": {
    "name": "ipython",
    "version": 3
   },
   "file_extension": ".py",
   "mimetype": "text/x-python",
   "name": "python",
   "nbconvert_exporter": "python",
   "pygments_lexer": "ipython3",
   "version": "3.11.5"
  }
 },
 "nbformat": 4,
 "nbformat_minor": 5
}
